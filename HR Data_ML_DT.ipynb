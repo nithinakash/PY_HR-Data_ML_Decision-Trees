{
 "cells": [
  {
   "cell_type": "code",
   "execution_count": 14,
   "id": "b7414245",
   "metadata": {},
   "outputs": [],
   "source": [
    "import numpy as np\n",
    "import pandas as pd\n",
    "import matplotlib.pyplot as plt\n",
    "import seaborn as sns\n",
    "%matplotlib inline"
   ]
  },
  {
   "cell_type": "code",
   "execution_count": 15,
   "id": "3995b6d0",
   "metadata": {},
   "outputs": [],
   "source": [
    "from sklearn.model_selection import train_test_split\n",
    "from sklearn.tree import DecisionTreeClassifier\n",
    "from sklearn.metrics import roc_auc_score\n",
    "from sklearn.model_selection import cross_validate,cross_val_score,KFold,StratifiedKFold,GridSearchCV"
   ]
  },
  {
   "cell_type": "markdown",
   "id": "30452851",
   "metadata": {},
   "source": [
    "### Datasets"
   ]
  },
  {
   "cell_type": "code",
   "execution_count": 16,
   "id": "ca37fb1b",
   "metadata": {},
   "outputs": [],
   "source": [
    "HR = pd.read_csv('C:/Users/Nithin/Downloads/ML_DT/HR_comma_sep.csv')"
   ]
  },
  {
   "cell_type": "markdown",
   "id": "f597e8dd",
   "metadata": {},
   "source": [
    "### Data Prep"
   ]
  },
  {
   "cell_type": "code",
   "execution_count": 17,
   "id": "c51bf140",
   "metadata": {},
   "outputs": [
    {
     "name": "stdout",
     "output_type": "stream",
     "text": [
      "<class 'pandas.core.frame.DataFrame'>\n",
      "RangeIndex: 14999 entries, 0 to 14998\n",
      "Data columns (total 10 columns):\n",
      " #   Column                 Non-Null Count  Dtype  \n",
      "---  ------                 --------------  -----  \n",
      " 0   satisfaction_level     14999 non-null  float64\n",
      " 1   last_evaluation        14999 non-null  float64\n",
      " 2   number_project         14999 non-null  int64  \n",
      " 3   average_montly_hours   14999 non-null  int64  \n",
      " 4   time_spend_company     14999 non-null  int64  \n",
      " 5   Work_accident          14999 non-null  int64  \n",
      " 6   left                   14999 non-null  int64  \n",
      " 7   promotion_last_5years  14999 non-null  int64  \n",
      " 8   department             14999 non-null  object \n",
      " 9   salary                 14999 non-null  object \n",
      "dtypes: float64(2), int64(6), object(2)\n",
      "memory usage: 1.1+ MB\n"
     ]
    }
   ],
   "source": [
    "HR.info()"
   ]
  },
  {
   "cell_type": "code",
   "execution_count": 18,
   "id": "c09f85af",
   "metadata": {},
   "outputs": [
    {
     "data": {
      "text/plain": [
       "satisfaction_level       0\n",
       "last_evaluation          0\n",
       "number_project           0\n",
       "average_montly_hours     0\n",
       "time_spend_company       0\n",
       "Work_accident            0\n",
       "left                     0\n",
       "promotion_last_5years    0\n",
       "department               0\n",
       "salary                   0\n",
       "dtype: int64"
      ]
     },
     "execution_count": 18,
     "metadata": {},
     "output_type": "execute_result"
    }
   ],
   "source": [
    "HR.isna().sum()"
   ]
  },
  {
   "cell_type": "code",
   "execution_count": 19,
   "id": "d93cee7f",
   "metadata": {},
   "outputs": [],
   "source": [
    "#Ordinal Label Encoding\n",
    "HR.salary = np.where(HR.salary == 'low',1,\n",
    "            np.where(HR.salary == 'medium',2,3))"
   ]
  },
  {
   "cell_type": "code",
   "execution_count": 20,
   "id": "36c4b4a3",
   "metadata": {},
   "outputs": [],
   "source": [
    "#One hot encoding\n",
    "HR.department.value_counts()\n",
    "\n",
    "dummy_df = pd.get_dummies(HR.department,drop_first=True,prefix='Dept')"
   ]
  },
  {
   "cell_type": "code",
   "execution_count": 21,
   "id": "3216ff94",
   "metadata": {},
   "outputs": [],
   "source": [
    "HR = pd.concat([HR,dummy_df],axis=1)\n",
    "del HR['department']"
   ]
  },
  {
   "cell_type": "markdown",
   "id": "ef8f233b",
   "metadata": {},
   "source": [
    "### Train & Test Model"
   ]
  },
  {
   "cell_type": "code",
   "execution_count": 22,
   "id": "8e5c4fe7",
   "metadata": {},
   "outputs": [],
   "source": [
    "feat = ['satisfaction_level', 'last_evaluation', 'number_project',\n",
    "       'average_montly_hours', 'time_spend_company', 'Work_accident',\n",
    "       'promotion_last_5years', 'salary', 'Dept_RandD', 'Dept_accounting',\n",
    "       'Dept_hr', 'Dept_management', 'Dept_marketing', 'Dept_product_mng',\n",
    "       'Dept_sales', 'Dept_support', 'Dept_technical']"
   ]
  },
  {
   "cell_type": "code",
   "execution_count": 23,
   "id": "bfe3611e",
   "metadata": {},
   "outputs": [],
   "source": [
    "train_x,test_x,train_y,test_y = train_test_split(HR[feat],HR['left'],test_size=0.3,random_state=12345)"
   ]
  },
  {
   "cell_type": "markdown",
   "id": "2064e2ff",
   "metadata": {},
   "source": [
    "### Buildiing a Model"
   ]
  },
  {
   "cell_type": "code",
   "execution_count": 24,
   "id": "36d51ad3",
   "metadata": {},
   "outputs": [
    {
     "data": {
      "text/plain": [
       "DecisionTreeClassifier()"
      ]
     },
     "execution_count": 24,
     "metadata": {},
     "output_type": "execute_result"
    }
   ],
   "source": [
    "#Init Model\n",
    "DTC = DecisionTreeClassifier()\n",
    "\n",
    "#Fit Model on train data\n",
    "DTC.fit(train_x,train_y)"
   ]
  },
  {
   "cell_type": "code",
   "execution_count": 25,
   "id": "f9a06ce3",
   "metadata": {},
   "outputs": [],
   "source": [
    "DTC_feat_imp = pd.concat([pd.Series(train_x.columns),pd.Series(DTC.feature_importances_)],axis = 1)\n",
    "DTC_feat_imp.columns = ['feat','value']"
   ]
  },
  {
   "cell_type": "code",
   "execution_count": 26,
   "id": "9808ba72",
   "metadata": {},
   "outputs": [
    {
     "data": {
      "text/html": [
       "<div>\n",
       "<style scoped>\n",
       "    .dataframe tbody tr th:only-of-type {\n",
       "        vertical-align: middle;\n",
       "    }\n",
       "\n",
       "    .dataframe tbody tr th {\n",
       "        vertical-align: top;\n",
       "    }\n",
       "\n",
       "    .dataframe thead th {\n",
       "        text-align: right;\n",
       "    }\n",
       "</style>\n",
       "<table border=\"1\" class=\"dataframe\">\n",
       "  <thead>\n",
       "    <tr style=\"text-align: right;\">\n",
       "      <th></th>\n",
       "      <th>feat</th>\n",
       "      <th>value</th>\n",
       "    </tr>\n",
       "  </thead>\n",
       "  <tbody>\n",
       "    <tr>\n",
       "      <th>0</th>\n",
       "      <td>satisfaction_level</td>\n",
       "      <td>0.488269</td>\n",
       "    </tr>\n",
       "    <tr>\n",
       "      <th>1</th>\n",
       "      <td>last_evaluation</td>\n",
       "      <td>0.149566</td>\n",
       "    </tr>\n",
       "    <tr>\n",
       "      <th>2</th>\n",
       "      <td>number_project</td>\n",
       "      <td>0.107791</td>\n",
       "    </tr>\n",
       "    <tr>\n",
       "      <th>3</th>\n",
       "      <td>average_montly_hours</td>\n",
       "      <td>0.093011</td>\n",
       "    </tr>\n",
       "    <tr>\n",
       "      <th>4</th>\n",
       "      <td>time_spend_company</td>\n",
       "      <td>0.142808</td>\n",
       "    </tr>\n",
       "    <tr>\n",
       "      <th>5</th>\n",
       "      <td>Work_accident</td>\n",
       "      <td>0.001346</td>\n",
       "    </tr>\n",
       "    <tr>\n",
       "      <th>6</th>\n",
       "      <td>promotion_last_5years</td>\n",
       "      <td>0.000026</td>\n",
       "    </tr>\n",
       "    <tr>\n",
       "      <th>7</th>\n",
       "      <td>salary</td>\n",
       "      <td>0.006200</td>\n",
       "    </tr>\n",
       "    <tr>\n",
       "      <th>8</th>\n",
       "      <td>Dept_RandD</td>\n",
       "      <td>0.000889</td>\n",
       "    </tr>\n",
       "    <tr>\n",
       "      <th>9</th>\n",
       "      <td>Dept_accounting</td>\n",
       "      <td>0.001177</td>\n",
       "    </tr>\n",
       "    <tr>\n",
       "      <th>10</th>\n",
       "      <td>Dept_hr</td>\n",
       "      <td>0.000821</td>\n",
       "    </tr>\n",
       "    <tr>\n",
       "      <th>11</th>\n",
       "      <td>Dept_management</td>\n",
       "      <td>0.000470</td>\n",
       "    </tr>\n",
       "    <tr>\n",
       "      <th>12</th>\n",
       "      <td>Dept_marketing</td>\n",
       "      <td>0.000526</td>\n",
       "    </tr>\n",
       "    <tr>\n",
       "      <th>13</th>\n",
       "      <td>Dept_product_mng</td>\n",
       "      <td>0.001097</td>\n",
       "    </tr>\n",
       "    <tr>\n",
       "      <th>14</th>\n",
       "      <td>Dept_sales</td>\n",
       "      <td>0.000852</td>\n",
       "    </tr>\n",
       "    <tr>\n",
       "      <th>15</th>\n",
       "      <td>Dept_support</td>\n",
       "      <td>0.002630</td>\n",
       "    </tr>\n",
       "    <tr>\n",
       "      <th>16</th>\n",
       "      <td>Dept_technical</td>\n",
       "      <td>0.002521</td>\n",
       "    </tr>\n",
       "  </tbody>\n",
       "</table>\n",
       "</div>"
      ],
      "text/plain": [
       "                     feat     value\n",
       "0      satisfaction_level  0.488269\n",
       "1         last_evaluation  0.149566\n",
       "2          number_project  0.107791\n",
       "3    average_montly_hours  0.093011\n",
       "4      time_spend_company  0.142808\n",
       "5           Work_accident  0.001346\n",
       "6   promotion_last_5years  0.000026\n",
       "7                  salary  0.006200\n",
       "8              Dept_RandD  0.000889\n",
       "9         Dept_accounting  0.001177\n",
       "10                Dept_hr  0.000821\n",
       "11        Dept_management  0.000470\n",
       "12         Dept_marketing  0.000526\n",
       "13       Dept_product_mng  0.001097\n",
       "14             Dept_sales  0.000852\n",
       "15           Dept_support  0.002630\n",
       "16         Dept_technical  0.002521"
      ]
     },
     "execution_count": 26,
     "metadata": {},
     "output_type": "execute_result"
    }
   ],
   "source": [
    "DTC_feat_imp"
   ]
  },
  {
   "cell_type": "markdown",
   "id": "5a0dd046",
   "metadata": {},
   "source": [
    "### Model Scoring"
   ]
  },
  {
   "cell_type": "code",
   "execution_count": 27,
   "id": "19e4bda1",
   "metadata": {},
   "outputs": [
    {
     "data": {
      "text/plain": [
       "1.0"
      ]
     },
     "execution_count": 27,
     "metadata": {},
     "output_type": "execute_result"
    }
   ],
   "source": [
    "train_pred = pd.DataFrame(DTC.predict_proba(train_x))[1]\n",
    "roc_auc_score(train_y,train_pred)"
   ]
  },
  {
   "cell_type": "code",
   "execution_count": 28,
   "id": "14b62f3b",
   "metadata": {},
   "outputs": [
    {
     "data": {
      "text/plain": [
       "0.9773912985166707"
      ]
     },
     "execution_count": 28,
     "metadata": {},
     "output_type": "execute_result"
    }
   ],
   "source": [
    "test_pred = pd.DataFrame(DTC.predict_proba(test_x))[1]\n",
    "roc_auc_score(test_y,test_pred)"
   ]
  },
  {
   "cell_type": "markdown",
   "id": "f9524678",
   "metadata": {},
   "source": [
    "### K Fold Cross Validation -- Without Hyper parameter tunning"
   ]
  },
  {
   "cell_type": "code",
   "execution_count": 29,
   "id": "a4b3bd81",
   "metadata": {},
   "outputs": [],
   "source": [
    "#Complete data\n",
    "kfold = KFold(n_splits = 10)\n",
    "scoring = 'roc_auc'"
   ]
  },
  {
   "cell_type": "code",
   "execution_count": 30,
   "id": "db2c109f",
   "metadata": {},
   "outputs": [],
   "source": [
    "#Init Model\n",
    "DTC = DecisionTreeClassifier()\n",
    "\n",
    "X = HR[feat]\n",
    "Y = HR['left']"
   ]
  },
  {
   "cell_type": "code",
   "execution_count": 31,
   "id": "8b7a5fa3",
   "metadata": {},
   "outputs": [
    {
     "name": "stderr",
     "output_type": "stream",
     "text": [
      "C:\\Users\\Nithin\\anaconda3\\lib\\site-packages\\sklearn\\model_selection\\_validation.py:696: UserWarning: Scoring failed. The score on this train-test partition for these parameters will be set to nan. Details: \n",
      "Traceback (most recent call last):\n",
      "  File \"C:\\Users\\Nithin\\anaconda3\\lib\\site-packages\\sklearn\\model_selection\\_validation.py\", line 687, in _score\n",
      "    scores = scorer(estimator, X_test, y_test)\n",
      "  File \"C:\\Users\\Nithin\\anaconda3\\lib\\site-packages\\sklearn\\metrics\\_scorer.py\", line 87, in __call__\n",
      "    score = scorer._score(cached_call, estimator,\n",
      "  File \"C:\\Users\\Nithin\\anaconda3\\lib\\site-packages\\sklearn\\metrics\\_scorer.py\", line 362, in _score\n",
      "    return self._sign * self._score_func(y, y_pred, **self._kwargs)\n",
      "  File \"C:\\Users\\Nithin\\anaconda3\\lib\\site-packages\\sklearn\\utils\\validation.py\", line 63, in inner_f\n",
      "    return f(*args, **kwargs)\n",
      "  File \"C:\\Users\\Nithin\\anaconda3\\lib\\site-packages\\sklearn\\metrics\\_ranking.py\", line 542, in roc_auc_score\n",
      "    return _average_binary_score(partial(_binary_roc_auc_score,\n",
      "  File \"C:\\Users\\Nithin\\anaconda3\\lib\\site-packages\\sklearn\\metrics\\_base.py\", line 77, in _average_binary_score\n",
      "    return binary_metric(y_true, y_score, sample_weight=sample_weight)\n",
      "  File \"C:\\Users\\Nithin\\anaconda3\\lib\\site-packages\\sklearn\\metrics\\_ranking.py\", line 327, in _binary_roc_auc_score\n",
      "    raise ValueError(\"Only one class present in y_true. ROC AUC score \"\n",
      "ValueError: Only one class present in y_true. ROC AUC score is not defined in that case.\n",
      "\n",
      "  warnings.warn(\n",
      "C:\\Users\\Nithin\\anaconda3\\lib\\site-packages\\sklearn\\model_selection\\_validation.py:696: UserWarning: Scoring failed. The score on this train-test partition for these parameters will be set to nan. Details: \n",
      "Traceback (most recent call last):\n",
      "  File \"C:\\Users\\Nithin\\anaconda3\\lib\\site-packages\\sklearn\\model_selection\\_validation.py\", line 687, in _score\n",
      "    scores = scorer(estimator, X_test, y_test)\n",
      "  File \"C:\\Users\\Nithin\\anaconda3\\lib\\site-packages\\sklearn\\metrics\\_scorer.py\", line 87, in __call__\n",
      "    score = scorer._score(cached_call, estimator,\n",
      "  File \"C:\\Users\\Nithin\\anaconda3\\lib\\site-packages\\sklearn\\metrics\\_scorer.py\", line 362, in _score\n",
      "    return self._sign * self._score_func(y, y_pred, **self._kwargs)\n",
      "  File \"C:\\Users\\Nithin\\anaconda3\\lib\\site-packages\\sklearn\\utils\\validation.py\", line 63, in inner_f\n",
      "    return f(*args, **kwargs)\n",
      "  File \"C:\\Users\\Nithin\\anaconda3\\lib\\site-packages\\sklearn\\metrics\\_ranking.py\", line 542, in roc_auc_score\n",
      "    return _average_binary_score(partial(_binary_roc_auc_score,\n",
      "  File \"C:\\Users\\Nithin\\anaconda3\\lib\\site-packages\\sklearn\\metrics\\_base.py\", line 77, in _average_binary_score\n",
      "    return binary_metric(y_true, y_score, sample_weight=sample_weight)\n",
      "  File \"C:\\Users\\Nithin\\anaconda3\\lib\\site-packages\\sklearn\\metrics\\_ranking.py\", line 327, in _binary_roc_auc_score\n",
      "    raise ValueError(\"Only one class present in y_true. ROC AUC score \"\n",
      "ValueError: Only one class present in y_true. ROC AUC score is not defined in that case.\n",
      "\n",
      "  warnings.warn(\n",
      "C:\\Users\\Nithin\\anaconda3\\lib\\site-packages\\sklearn\\model_selection\\_validation.py:696: UserWarning: Scoring failed. The score on this train-test partition for these parameters will be set to nan. Details: \n",
      "Traceback (most recent call last):\n",
      "  File \"C:\\Users\\Nithin\\anaconda3\\lib\\site-packages\\sklearn\\model_selection\\_validation.py\", line 687, in _score\n",
      "    scores = scorer(estimator, X_test, y_test)\n",
      "  File \"C:\\Users\\Nithin\\anaconda3\\lib\\site-packages\\sklearn\\metrics\\_scorer.py\", line 87, in __call__\n",
      "    score = scorer._score(cached_call, estimator,\n",
      "  File \"C:\\Users\\Nithin\\anaconda3\\lib\\site-packages\\sklearn\\metrics\\_scorer.py\", line 362, in _score\n",
      "    return self._sign * self._score_func(y, y_pred, **self._kwargs)\n",
      "  File \"C:\\Users\\Nithin\\anaconda3\\lib\\site-packages\\sklearn\\utils\\validation.py\", line 63, in inner_f\n",
      "    return f(*args, **kwargs)\n",
      "  File \"C:\\Users\\Nithin\\anaconda3\\lib\\site-packages\\sklearn\\metrics\\_ranking.py\", line 542, in roc_auc_score\n",
      "    return _average_binary_score(partial(_binary_roc_auc_score,\n",
      "  File \"C:\\Users\\Nithin\\anaconda3\\lib\\site-packages\\sklearn\\metrics\\_base.py\", line 77, in _average_binary_score\n",
      "    return binary_metric(y_true, y_score, sample_weight=sample_weight)\n",
      "  File \"C:\\Users\\Nithin\\anaconda3\\lib\\site-packages\\sklearn\\metrics\\_ranking.py\", line 327, in _binary_roc_auc_score\n",
      "    raise ValueError(\"Only one class present in y_true. ROC AUC score \"\n",
      "ValueError: Only one class present in y_true. ROC AUC score is not defined in that case.\n",
      "\n",
      "  warnings.warn(\n",
      "C:\\Users\\Nithin\\anaconda3\\lib\\site-packages\\sklearn\\model_selection\\_validation.py:696: UserWarning: Scoring failed. The score on this train-test partition for these parameters will be set to nan. Details: \n",
      "Traceback (most recent call last):\n",
      "  File \"C:\\Users\\Nithin\\anaconda3\\lib\\site-packages\\sklearn\\model_selection\\_validation.py\", line 687, in _score\n",
      "    scores = scorer(estimator, X_test, y_test)\n",
      "  File \"C:\\Users\\Nithin\\anaconda3\\lib\\site-packages\\sklearn\\metrics\\_scorer.py\", line 87, in __call__\n",
      "    score = scorer._score(cached_call, estimator,\n",
      "  File \"C:\\Users\\Nithin\\anaconda3\\lib\\site-packages\\sklearn\\metrics\\_scorer.py\", line 362, in _score\n",
      "    return self._sign * self._score_func(y, y_pred, **self._kwargs)\n",
      "  File \"C:\\Users\\Nithin\\anaconda3\\lib\\site-packages\\sklearn\\utils\\validation.py\", line 63, in inner_f\n",
      "    return f(*args, **kwargs)\n",
      "  File \"C:\\Users\\Nithin\\anaconda3\\lib\\site-packages\\sklearn\\metrics\\_ranking.py\", line 542, in roc_auc_score\n",
      "    return _average_binary_score(partial(_binary_roc_auc_score,\n",
      "  File \"C:\\Users\\Nithin\\anaconda3\\lib\\site-packages\\sklearn\\metrics\\_base.py\", line 77, in _average_binary_score\n",
      "    return binary_metric(y_true, y_score, sample_weight=sample_weight)\n",
      "  File \"C:\\Users\\Nithin\\anaconda3\\lib\\site-packages\\sklearn\\metrics\\_ranking.py\", line 327, in _binary_roc_auc_score\n",
      "    raise ValueError(\"Only one class present in y_true. ROC AUC score \"\n",
      "ValueError: Only one class present in y_true. ROC AUC score is not defined in that case.\n",
      "\n",
      "  warnings.warn(\n",
      "C:\\Users\\Nithin\\anaconda3\\lib\\site-packages\\sklearn\\model_selection\\_validation.py:696: UserWarning: Scoring failed. The score on this train-test partition for these parameters will be set to nan. Details: \n",
      "Traceback (most recent call last):\n",
      "  File \"C:\\Users\\Nithin\\anaconda3\\lib\\site-packages\\sklearn\\model_selection\\_validation.py\", line 687, in _score\n",
      "    scores = scorer(estimator, X_test, y_test)\n",
      "  File \"C:\\Users\\Nithin\\anaconda3\\lib\\site-packages\\sklearn\\metrics\\_scorer.py\", line 87, in __call__\n",
      "    score = scorer._score(cached_call, estimator,\n",
      "  File \"C:\\Users\\Nithin\\anaconda3\\lib\\site-packages\\sklearn\\metrics\\_scorer.py\", line 362, in _score\n",
      "    return self._sign * self._score_func(y, y_pred, **self._kwargs)\n",
      "  File \"C:\\Users\\Nithin\\anaconda3\\lib\\site-packages\\sklearn\\utils\\validation.py\", line 63, in inner_f\n",
      "    return f(*args, **kwargs)\n",
      "  File \"C:\\Users\\Nithin\\anaconda3\\lib\\site-packages\\sklearn\\metrics\\_ranking.py\", line 542, in roc_auc_score\n",
      "    return _average_binary_score(partial(_binary_roc_auc_score,\n",
      "  File \"C:\\Users\\Nithin\\anaconda3\\lib\\site-packages\\sklearn\\metrics\\_base.py\", line 77, in _average_binary_score\n",
      "    return binary_metric(y_true, y_score, sample_weight=sample_weight)\n",
      "  File \"C:\\Users\\Nithin\\anaconda3\\lib\\site-packages\\sklearn\\metrics\\_ranking.py\", line 327, in _binary_roc_auc_score\n",
      "    raise ValueError(\"Only one class present in y_true. ROC AUC score \"\n",
      "ValueError: Only one class present in y_true. ROC AUC score is not defined in that case.\n",
      "\n",
      "  warnings.warn(\n",
      "C:\\Users\\Nithin\\anaconda3\\lib\\site-packages\\sklearn\\model_selection\\_validation.py:696: UserWarning: Scoring failed. The score on this train-test partition for these parameters will be set to nan. Details: \n",
      "Traceback (most recent call last):\n",
      "  File \"C:\\Users\\Nithin\\anaconda3\\lib\\site-packages\\sklearn\\model_selection\\_validation.py\", line 687, in _score\n",
      "    scores = scorer(estimator, X_test, y_test)\n",
      "  File \"C:\\Users\\Nithin\\anaconda3\\lib\\site-packages\\sklearn\\metrics\\_scorer.py\", line 87, in __call__\n",
      "    score = scorer._score(cached_call, estimator,\n",
      "  File \"C:\\Users\\Nithin\\anaconda3\\lib\\site-packages\\sklearn\\metrics\\_scorer.py\", line 362, in _score\n",
      "    return self._sign * self._score_func(y, y_pred, **self._kwargs)\n",
      "  File \"C:\\Users\\Nithin\\anaconda3\\lib\\site-packages\\sklearn\\utils\\validation.py\", line 63, in inner_f\n",
      "    return f(*args, **kwargs)\n",
      "  File \"C:\\Users\\Nithin\\anaconda3\\lib\\site-packages\\sklearn\\metrics\\_ranking.py\", line 542, in roc_auc_score\n",
      "    return _average_binary_score(partial(_binary_roc_auc_score,\n",
      "  File \"C:\\Users\\Nithin\\anaconda3\\lib\\site-packages\\sklearn\\metrics\\_base.py\", line 77, in _average_binary_score\n",
      "    return binary_metric(y_true, y_score, sample_weight=sample_weight)\n",
      "  File \"C:\\Users\\Nithin\\anaconda3\\lib\\site-packages\\sklearn\\metrics\\_ranking.py\", line 327, in _binary_roc_auc_score\n",
      "    raise ValueError(\"Only one class present in y_true. ROC AUC score \"\n",
      "ValueError: Only one class present in y_true. ROC AUC score is not defined in that case.\n",
      "\n",
      "  warnings.warn(\n",
      "C:\\Users\\Nithin\\anaconda3\\lib\\site-packages\\sklearn\\model_selection\\_validation.py:696: UserWarning: Scoring failed. The score on this train-test partition for these parameters will be set to nan. Details: \n",
      "Traceback (most recent call last):\n",
      "  File \"C:\\Users\\Nithin\\anaconda3\\lib\\site-packages\\sklearn\\model_selection\\_validation.py\", line 687, in _score\n",
      "    scores = scorer(estimator, X_test, y_test)\n",
      "  File \"C:\\Users\\Nithin\\anaconda3\\lib\\site-packages\\sklearn\\metrics\\_scorer.py\", line 87, in __call__\n",
      "    score = scorer._score(cached_call, estimator,\n",
      "  File \"C:\\Users\\Nithin\\anaconda3\\lib\\site-packages\\sklearn\\metrics\\_scorer.py\", line 362, in _score\n",
      "    return self._sign * self._score_func(y, y_pred, **self._kwargs)\n",
      "  File \"C:\\Users\\Nithin\\anaconda3\\lib\\site-packages\\sklearn\\utils\\validation.py\", line 63, in inner_f\n",
      "    return f(*args, **kwargs)\n",
      "  File \"C:\\Users\\Nithin\\anaconda3\\lib\\site-packages\\sklearn\\metrics\\_ranking.py\", line 542, in roc_auc_score\n",
      "    return _average_binary_score(partial(_binary_roc_auc_score,\n",
      "  File \"C:\\Users\\Nithin\\anaconda3\\lib\\site-packages\\sklearn\\metrics\\_base.py\", line 77, in _average_binary_score\n",
      "    return binary_metric(y_true, y_score, sample_weight=sample_weight)\n",
      "  File \"C:\\Users\\Nithin\\anaconda3\\lib\\site-packages\\sklearn\\metrics\\_ranking.py\", line 327, in _binary_roc_auc_score\n",
      "    raise ValueError(\"Only one class present in y_true. ROC AUC score \"\n",
      "ValueError: Only one class present in y_true. ROC AUC score is not defined in that case.\n",
      "\n",
      "  warnings.warn(\n"
     ]
    },
    {
     "data": {
      "text/plain": [
       "array([  nan, 0.959,   nan,   nan,   nan,   nan,   nan,   nan, 1.   ,\n",
       "       1.   ])"
      ]
     },
     "execution_count": 31,
     "metadata": {},
     "output_type": "execute_result"
    }
   ],
   "source": [
    "cross_val_score(DTC,X,Y,cv=kfold,scoring=scoring)"
   ]
  },
  {
   "cell_type": "code",
   "execution_count": 32,
   "id": "1abb916a",
   "metadata": {},
   "outputs": [],
   "source": [
    "kfold_s = StratifiedKFold(n_splits = 10)\n",
    "scoring = 'roc_auc'"
   ]
  },
  {
   "cell_type": "code",
   "execution_count": 33,
   "id": "d4d20611",
   "metadata": {},
   "outputs": [
    {
     "data": {
      "text/plain": [
       "0.9800621962406136"
      ]
     },
     "execution_count": 33,
     "metadata": {},
     "output_type": "execute_result"
    }
   ],
   "source": [
    "result = cross_val_score(DTC,X,Y,cv=kfold_s,scoring=scoring)\n",
    "act_acc = np.mean(result)\n",
    "act_acc"
   ]
  },
  {
   "cell_type": "code",
   "execution_count": 34,
   "id": "4d4feec2",
   "metadata": {},
   "outputs": [
    {
     "data": {
      "text/plain": [
       "0.9724062447558826"
      ]
     },
     "execution_count": 34,
     "metadata": {},
     "output_type": "execute_result"
    }
   ],
   "source": [
    "#Train Data\n",
    "result = cross_val_score(DTC,train_x,train_y,cv=kfold_s,scoring=scoring)\n",
    "act_acc = np.mean(result)\n",
    "act_acc"
   ]
  },
  {
   "cell_type": "markdown",
   "id": "5bf268ea",
   "metadata": {},
   "source": [
    "### With Hyper parameter tunning"
   ]
  },
  {
   "cell_type": "code",
   "execution_count": 35,
   "id": "3aeee291",
   "metadata": {},
   "outputs": [
    {
     "data": {
      "text/plain": [
       "DecisionTreeClassifier(criterion='entropy', max_depth=10, min_samples_leaf=2,\n",
       "                       min_samples_split=5)"
      ]
     },
     "execution_count": 35,
     "metadata": {},
     "output_type": "execute_result"
    }
   ],
   "source": [
    "#One hold out\n",
    "DTC = DecisionTreeClassifier(criterion='entropy',max_depth=10,min_samples_split=5,min_samples_leaf=2)\n",
    "\n",
    "DTC.fit(train_x,train_y)"
   ]
  },
  {
   "cell_type": "code",
   "execution_count": 36,
   "id": "ab007cd3",
   "metadata": {},
   "outputs": [
    {
     "data": {
      "text/plain": [
       "0.9954012876513327"
      ]
     },
     "execution_count": 36,
     "metadata": {},
     "output_type": "execute_result"
    }
   ],
   "source": [
    "train_pred = pd.DataFrame(DTC.predict_proba(train_x))[1]\n",
    "roc_auc_score(train_y,train_pred)"
   ]
  },
  {
   "cell_type": "code",
   "execution_count": 37,
   "id": "de9224dd",
   "metadata": {},
   "outputs": [
    {
     "data": {
      "text/plain": [
       "0.9860527145194603"
      ]
     },
     "execution_count": 37,
     "metadata": {},
     "output_type": "execute_result"
    }
   ],
   "source": [
    "test_pred = pd.DataFrame(DTC.predict_proba(test_x))[1]\n",
    "roc_auc_score(test_y,test_pred)"
   ]
  },
  {
   "cell_type": "code",
   "execution_count": 38,
   "id": "27d60fee",
   "metadata": {},
   "outputs": [
    {
     "data": {
      "text/plain": [
       "0.9830064187217873"
      ]
     },
     "execution_count": 38,
     "metadata": {},
     "output_type": "execute_result"
    }
   ],
   "source": [
    "#K fold + One hold out\n",
    "result = cross_val_score(DTC,train_x,train_y,cv=kfold_s,scoring=scoring)\n",
    "act_acc = np.mean(result)\n",
    "act_acc"
   ]
  },
  {
   "cell_type": "code",
   "execution_count": 39,
   "id": "53067512",
   "metadata": {},
   "outputs": [],
   "source": [
    "#with Hyperparameter tuning\n",
    "params = {'criterion': ['gini','entropy'],\n",
    "         'max_depth': [5,6,7],\n",
    "         'min_samples_split': [2,3,4],\n",
    "         'min_samples_leaf':  [3,4,5],\n",
    "         'max_features': [\"auto\", \"sqrt\"]}"
   ]
  },
  {
   "cell_type": "code",
   "execution_count": 40,
   "id": "fdfa42dd",
   "metadata": {},
   "outputs": [
    {
     "data": {
      "text/plain": [
       "GridSearchCV(cv=5, estimator=DecisionTreeClassifier(),\n",
       "             param_grid={'criterion': ['gini', 'entropy'],\n",
       "                         'max_depth': [5, 6, 7],\n",
       "                         'max_features': ['auto', 'sqrt'],\n",
       "                         'min_samples_leaf': [3, 4, 5],\n",
       "                         'min_samples_split': [2, 3, 4]},\n",
       "             scoring='roc_auc')"
      ]
     },
     "execution_count": 40,
     "metadata": {},
     "output_type": "execute_result"
    }
   ],
   "source": [
    "DTC_H = GridSearchCV(DecisionTreeClassifier(),param_grid=params,cv=5,scoring=scoring)\n",
    "\n",
    "DTC_H.fit(train_x,train_y)"
   ]
  },
  {
   "cell_type": "code",
   "execution_count": 41,
   "id": "1286457b",
   "metadata": {},
   "outputs": [
    {
     "data": {
      "text/plain": [
       "{'criterion': 'gini',\n",
       " 'max_depth': 7,\n",
       " 'max_features': 'sqrt',\n",
       " 'min_samples_leaf': 3,\n",
       " 'min_samples_split': 3}"
      ]
     },
     "execution_count": 41,
     "metadata": {},
     "output_type": "execute_result"
    }
   ],
   "source": [
    "DTC_H.best_params_"
   ]
  },
  {
   "cell_type": "markdown",
   "id": "93c22c75",
   "metadata": {},
   "source": [
    "##### Using Best Params"
   ]
  },
  {
   "cell_type": "code",
   "execution_count": 42,
   "id": "fe39f4e6",
   "metadata": {},
   "outputs": [
    {
     "data": {
      "text/plain": [
       "DecisionTreeClassifier(max_depth=7, max_features='sqrt', min_samples_leaf=3,\n",
       "                       min_samples_split=4)"
      ]
     },
     "execution_count": 42,
     "metadata": {},
     "output_type": "execute_result"
    }
   ],
   "source": [
    "DTC = DecisionTreeClassifier(criterion='gini',max_depth=7,min_samples_split=4,min_samples_leaf=3,max_features='sqrt')\n",
    "\n",
    "DTC.fit(train_x,train_y)"
   ]
  },
  {
   "cell_type": "code",
   "execution_count": 43,
   "id": "bcd73a3b",
   "metadata": {},
   "outputs": [
    {
     "data": {
      "text/plain": [
       "0.9720694601404027"
      ]
     },
     "execution_count": 43,
     "metadata": {},
     "output_type": "execute_result"
    }
   ],
   "source": [
    "train_pred = pd.DataFrame(DTC.predict_proba(train_x))[1]\n",
    "roc_auc_score(train_y,train_pred)"
   ]
  },
  {
   "cell_type": "code",
   "execution_count": 124,
   "id": "5d45f3bb",
   "metadata": {},
   "outputs": [
    {
     "data": {
      "text/plain": [
       "0.9747082685103223"
      ]
     },
     "execution_count": 124,
     "metadata": {},
     "output_type": "execute_result"
    }
   ],
   "source": [
    "test_pred = pd.DataFrame(DTC.predict_proba(test_x))[1]\n",
    "roc_auc_score(test_y,test_pred)"
   ]
  }
 ],
 "metadata": {
  "kernelspec": {
   "display_name": "Python 3 (ipykernel)",
   "language": "python",
   "name": "python3"
  },
  "language_info": {
   "codemirror_mode": {
    "name": "ipython",
    "version": 3
   },
   "file_extension": ".py",
   "mimetype": "text/x-python",
   "name": "python",
   "nbconvert_exporter": "python",
   "pygments_lexer": "ipython3",
   "version": "3.9.7"
  }
 },
 "nbformat": 4,
 "nbformat_minor": 5
}
